{
 "cells": [
  {
   "cell_type": "code",
   "execution_count": 49,
   "metadata": {},
   "outputs": [],
   "source": [
    "import fastbook\n",
    "\n",
    "fastbook.setup_book()\n",
    "from fastbook import *\n",
    "from fastai.vision.widgets import *"
   ]
  },
  {
   "cell_type": "code",
   "execution_count": 50,
   "metadata": {},
   "outputs": [],
   "source": [
    "learn_inference: Learner = load_learner(Path() / \"export.pkl\")"
   ]
  },
  {
   "cell_type": "markdown",
   "metadata": {},
   "source": [
    "# Creating a Notebook App from the Model"
   ]
  },
  {
   "cell_type": "code",
   "execution_count": 54,
   "metadata": {},
   "outputs": [
    {
     "data": {
      "text/html": [],
      "text/plain": [
       "<IPython.core.display.HTML object>"
      ]
     },
     "metadata": {},
     "output_type": "display_data"
    },
    {
     "data": {
      "application/vnd.jupyter.widget-view+json": {
       "model_id": "37f4855e0ab24693a67e75f4ba6703b9",
       "version_major": 2,
       "version_minor": 0
      },
      "text/plain": [
       "VBox(children=(Label(value='Please select an image to see if it is a blue whale or dolphin'), FileUpload(value…"
      ]
     },
     "execution_count": 54,
     "metadata": {},
     "output_type": "execute_result"
    }
   ],
   "source": [
    "btn_upload = widgets.FileUpload()\n",
    "btn_upload = SimpleNamespace(data=[\"images/dolphin.jpg\"])\n",
    "img = PILImage.create(btn_upload.data[-1])\n",
    "out_pl = widgets.Output()\n",
    "out_pl.clear_output()\n",
    "with out_pl:\n",
    "    display(img.to_thumb(1024, 1024))\n",
    "pred, pred_idx, proba = learn_inference.predict(img)\n",
    "lbl_pred = widgets.Label()\n",
    "btn_run = widgets.Button(description=\"Classify\")\n",
    "\n",
    "\n",
    "def on_click_classify(change):\n",
    "    image = PILImage.create(btn_upload.data[-1])\n",
    "    out_pl.clear_output()\n",
    "    with out_pl:\n",
    "        display(image.to_thumb(1024, 1024))\n",
    "    pred, pred_idx, proba = learn_inference.predict(image)\n",
    "    lbl_pred.value = f\"Prediction: {pred} with probability: {proba[pred_idx]: .04f}\"\n",
    "\n",
    "\n",
    "btn_run.on_click(on_click_classify)\n",
    "btn_upload = widgets.FileUpload()\n",
    "VBox(\n",
    "    [\n",
    "        widgets.Label(\"Please select an image to see if it is a blue whale or dolphin\"),\n",
    "        btn_upload,\n",
    "        btn_run,\n",
    "        out_pl,\n",
    "        lbl_pred,\n",
    "    ]\n",
    ")"
   ]
  }
 ],
 "metadata": {
  "kernelspec": {
   "display_name": "handsonds",
   "language": "python",
   "name": "python3"
  },
  "language_info": {
   "codemirror_mode": {
    "name": "ipython",
    "version": 3
   },
   "file_extension": ".py",
   "mimetype": "text/x-python",
   "name": "python",
   "nbconvert_exporter": "python",
   "pygments_lexer": "ipython3",
   "version": "3.11.5"
  }
 },
 "nbformat": 4,
 "nbformat_minor": 2
}
